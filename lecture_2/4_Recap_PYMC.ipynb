{
 "cells": [
  {
   "cell_type": "markdown",
   "id": "386585d3-197f-4793-8a5c-345f05b2c046",
   "metadata": {},
   "source": [
    "## Recap of last lecture\n",
    "\n",
    "with statemnet\n",
    "- Python context manager\n",
    "- to connect variables with the model "
   ]
  },
  {
   "cell_type": "code",
   "execution_count": 1,
   "id": "c1074089-6b35-4d71-85af-592054235057",
   "metadata": {},
   "outputs": [],
   "source": [
    "import pymc as pm\n",
    "\n",
    "with pm.Model() as model:\n",
    "    parameter = pm.Exponential(\"poisson_param\", 1.0)\n",
    "    data_generator = pm.Poisson(\"data_generator\", parameter)"
   ]
  },
  {
   "cell_type": "code",
   "execution_count": 2,
   "id": "9b3fef51-189c-4e3f-bf37-5e4a81c8828a",
   "metadata": {},
   "outputs": [],
   "source": [
    "with model:\n",
    "    data_plus_one = data_generator + 1"
   ]
  },
  {
   "cell_type": "markdown",
   "id": "de68af38-e555-45c5-be36-9801a524e883",
   "metadata": {},
   "source": [
    "We can have another model with different name"
   ]
  },
  {
   "cell_type": "code",
   "execution_count": 3,
   "id": "cc620f06-4a57-49fb-8e3e-392bf314f939",
   "metadata": {},
   "outputs": [],
   "source": [
    "with pm.Model() as ab_testing:\n",
    "    p_A = pm.Uniform(\"P(A)\", 0, 1)\n",
    "    p_B = pm.Uniform(\"P(B)\", 0, 1)"
   ]
  },
  {
   "cell_type": "markdown",
   "id": "c5feaac4-e1b8-4584-ad8a-c826bd81f0b3",
   "metadata": {},
   "source": [
    "## PyMC Variables"
   ]
  },
  {
   "cell_type": "markdown",
   "id": "4f0b6fc3-a379-49ed-9935-260d80f470ce",
   "metadata": {},
   "source": [
    "Types of variables: \n",
    "\n",
    "- stochastic like Poisson, DiscreteUniform, and Exponential.\n",
    "\n",
    "- deterministic"
   ]
  },
  {
   "cell_type": "markdown",
   "id": "65889752-e6d5-427a-a5b9-4b3de9a80e21",
   "metadata": {},
   "source": [
    "### Stochastic\n"
   ]
  },
  {
   "cell_type": "code",
   "execution_count": 4,
   "id": "91fea04a-4259-4bdf-95a0-631901023376",
   "metadata": {},
   "outputs": [],
   "source": [
    "with model:\n",
    "    #to create a variable we need a name and some class specifc arguments, here 0 and 4 are lower and upper bounds\n",
    "    some_variable = pm.DiscreteUniform(\"discrete_uni_var\", 0, 4)"
   ]
  },
  {
   "cell_type": "markdown",
   "id": "eef1ffd3-0d95-4df5-81e2-1f5910b682c8",
   "metadata": {},
   "source": [
    "If we want to create many variables we may use shape argment"
   ]
  },
  {
   "cell_type": "code",
   "execution_count": 5,
   "id": "263487c7-0e0b-4121-aefa-065b62a0bcf6",
   "metadata": {},
   "outputs": [],
   "source": [
    "N = 10\n",
    "with model:\n",
    "    betas = pm.Uniform(\"betas\", 0, 1, shape=N)"
   ]
  },
  {
   "cell_type": "markdown",
   "id": "59b5b9f1-8708-4f3f-baa4-581ed63d2ab7",
   "metadata": {},
   "source": [
    "### Deterministic"
   ]
  },
  {
   "cell_type": "code",
   "execution_count": 6,
   "id": "4488dc1c-6e3c-4765-a129-02d50912b923",
   "metadata": {},
   "outputs": [],
   "source": [
    "with pm.Model() as model:\n",
    "    lambda_1 = pm.Exponential(\"lambda_1\", 1.0)\n",
    "    lambda_2 = pm.Exponential(\"lambda_2\", 1.0)\n",
    "    tau = pm.DiscreteUniform(\"tau\", lower=0, upper=10)\n",
    "\n",
    "new_deterministic_variable = lambda_1 + lambda_2"
   ]
  },
  {
   "cell_type": "code",
   "execution_count": null,
   "id": "777cc826-7d14-4439-805d-d7e8ea6ddab2",
   "metadata": {},
   "outputs": [],
   "source": []
  }
 ],
 "metadata": {
  "kernelspec": {
   "display_name": "Python 3 (ipykernel)",
   "language": "python",
   "name": "python3"
  },
  "language_info": {
   "codemirror_mode": {
    "name": "ipython",
    "version": 3
   },
   "file_extension": ".py",
   "mimetype": "text/x-python",
   "name": "python",
   "nbconvert_exporter": "python",
   "pygments_lexer": "ipython3",
   "version": "3.10.4"
  }
 },
 "nbformat": 4,
 "nbformat_minor": 5
}
