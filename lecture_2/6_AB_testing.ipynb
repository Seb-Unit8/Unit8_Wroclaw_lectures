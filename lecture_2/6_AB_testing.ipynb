{
 "cells": [
  {
   "cell_type": "code",
   "execution_count": 31,
   "id": "a6a07c97-0b09-4da6-85af-13662a6c5090",
   "metadata": {},
   "outputs": [],
   "source": [
    "import numpy as np\n",
    "import pymc as pm\n",
    "import matplotlib.pyplot as plt\n"
   ]
  },
  {
   "cell_type": "markdown",
   "id": "fbf73721-56f8-49ef-b841-6b4b9f664877",
   "metadata": {},
   "source": [
    "Results of experiment"
   ]
  },
  {
   "cell_type": "code",
   "execution_count": 71,
   "id": "7ddd6e88-dc26-48cd-b7df-cedb639758b9",
   "metadata": {},
   "outputs": [],
   "source": [
    "clicks_A = 1135\n",
    "orders_A = 5\n",
    "clicks_B = 1149\n",
    "orders_B = 17"
   ]
  },
  {
   "cell_type": "markdown",
   "id": "2aaf83d8-549f-471c-a3d7-f4f3d66c1783",
   "metadata": {},
   "source": [
    "Observed converstion rates"
   ]
  },
  {
   "cell_type": "code",
   "execution_count": 72,
   "id": "891ec36a-dbc3-4724-9d2d-2753713d2dd2",
   "metadata": {},
   "outputs": [
    {
     "data": {
      "text/plain": [
       "0.44052863436123346"
      ]
     },
     "execution_count": 72,
     "metadata": {},
     "output_type": "execute_result"
    }
   ],
   "source": [
    "orders_A*100/clicks_A"
   ]
  },
  {
   "cell_type": "code",
   "execution_count": 73,
   "id": "9258c2da-6507-4484-baba-89561804f438",
   "metadata": {},
   "outputs": [
    {
     "data": {
      "text/plain": [
       "1.4795474325500435"
      ]
     },
     "execution_count": 73,
     "metadata": {},
     "output_type": "execute_result"
    }
   ],
   "source": [
    "orders_B*100/clicks_B"
   ]
  },
  {
   "cell_type": "markdown",
   "id": "f78b8a6f-74bc-4111-9cc8-b1f8f81b4fe7",
   "metadata": {},
   "source": [
    "Simulated data"
   ]
  },
  {
   "cell_type": "code",
   "execution_count": 74,
   "id": "4659d51f-6d48-4149-b6ff-17147963e994",
   "metadata": {},
   "outputs": [],
   "source": [
    "data_A = np.r_[[0] * (clicks_A - orders_A), [1] * orders_A]\n",
    "data_B = np.r_[[0] * (clicks_B - orders_B), [1] * orders_B]"
   ]
  },
  {
   "cell_type": "code",
   "execution_count": 75,
   "id": "f64dd996-551b-466e-a1aa-bddeac931896",
   "metadata": {},
   "outputs": [
    {
     "data": {
      "text/plain": [
       "array([0, 0, 0, ..., 1, 1, 1])"
      ]
     },
     "execution_count": 75,
     "metadata": {},
     "output_type": "execute_result"
    }
   ],
   "source": [
    "data_B"
   ]
  },
  {
   "cell_type": "code",
   "execution_count": 76,
   "id": "72808201-6695-460e-90b4-bfffeb65de84",
   "metadata": {},
   "outputs": [
    {
     "data": {
      "text/plain": [
       "0.014795474325500435"
      ]
     },
     "execution_count": 76,
     "metadata": {},
     "output_type": "execute_result"
    }
   ],
   "source": [
    "np.mean(data_B)"
   ]
  },
  {
   "cell_type": "code",
   "execution_count": 77,
   "id": "65cf3168-c73a-4f97-9408-91c78cfaa32a",
   "metadata": {},
   "outputs": [
    {
     "data": {
      "text/plain": [
       "0.004405286343612335"
      ]
     },
     "execution_count": 77,
     "metadata": {},
     "output_type": "execute_result"
    }
   ],
   "source": [
    "np.mean(data_A)"
   ]
  },
  {
   "cell_type": "code",
   "execution_count": 78,
   "id": "c0c51f34-7e40-4f86-8a16-fdb543d7f85c",
   "metadata": {},
   "outputs": [
    {
     "name": "stderr",
     "output_type": "stream",
     "text": [
      "Multiprocess sampling (4 chains in 4 jobs)\n",
      "CompoundStep\n",
      ">Metropolis: [p_A]\n",
      ">Metropolis: [p_B]\n"
     ]
    },
    {
     "data": {
      "text/html": [
       "\n",
       "<style>\n",
       "    /* Turns off some styling */\n",
       "    progress {\n",
       "        /* gets rid of default border in Firefox and Opera. */\n",
       "        border: none;\n",
       "        /* Needs to be in here for Safari polyfill so background images work as expected. */\n",
       "        background-size: auto;\n",
       "    }\n",
       "    .progress-bar-interrupted, .progress-bar-interrupted::-webkit-progress-bar {\n",
       "        background: #F44336;\n",
       "    }\n",
       "</style>\n"
      ],
      "text/plain": [
       "<IPython.core.display.HTML object>"
      ]
     },
     "metadata": {},
     "output_type": "display_data"
    },
    {
     "data": {
      "text/html": [
       "\n",
       "    <div>\n",
       "      <progress value='84000' class='' max='84000' style='width:300px; height:20px; vertical-align: middle;'></progress>\n",
       "      100.00% [84000/84000 00:14<00:00 Sampling 4 chains, 0 divergences]\n",
       "    </div>\n",
       "    "
      ],
      "text/plain": [
       "<IPython.core.display.HTML object>"
      ]
     },
     "metadata": {},
     "output_type": "display_data"
    },
    {
     "name": "stderr",
     "output_type": "stream",
     "text": [
      "Sampling 4 chains for 1_000 tune and 20_000 draw iterations (4_000 + 80_000 draws total) took 31 seconds.\n"
     ]
    }
   ],
   "source": [
    "with pm.Model() as model:\n",
    "    p_A = pm.Uniform(\"p_A\", 0, 1)\n",
    "    p_B = pm.Uniform(\"p_B\", 0, 1)\n",
    "    \n",
    "    # Define the deterministic delta function. This is our unknown of interest.\n",
    "    delta = pm.Deterministic(\"delta\", p_B - p_A)\n",
    "\n",
    "    # Set of observations, in this case we have two observation datasets.\n",
    "    obs_A = pm.Bernoulli(\"obs_A\", p_A, observed=data_A)\n",
    "    obs_B = pm.Bernoulli(\"obs_B\", p_B, observed=data_B)\n",
    "\n",
    "    # To be explained in chapter 3.\n",
    "    step = pm.Metropolis()\n",
    "    trace = pm.sample(20000, step=step, return_inferencedata=False)"
   ]
  },
  {
   "cell_type": "code",
   "execution_count": 79,
   "id": "9717d72d-6849-4402-a439-fd3408cb6325",
   "metadata": {},
   "outputs": [],
   "source": [
    "p_A_samples = trace[\"p_A\"]\n",
    "p_B_samples = trace[\"p_B\"]\n",
    "delta_samples = trace[\"delta\"]"
   ]
  },
  {
   "cell_type": "code",
   "execution_count": 80,
   "id": "e41adb13-227c-4040-bfde-38fa679639e1",
   "metadata": {},
   "outputs": [
    {
     "data": {
      "image/png": "[encoded data removed]",
      "text/plain": [
       "<Figure size 900x720 with 3 Axes>"
      ]
     },
     "metadata": {
      "needs_background": "light"
     },
     "output_type": "display_data"
    }
   ],
   "source": [
    "ax = plt.subplot(311)\n",
    "\n",
    "plt.xlim(0, .035)\n",
    "plt.hist(p_A_samples, histtype='stepfilled', bins=25, alpha=0.85,\n",
    "         label=\"posterior of $p_A$\", color=\"#A60628\", edgecolor= \"none\")\n",
    "plt.legend(loc=\"upper right\")\n",
    "plt.title(\"Posterior distributions of $p_A$, $p_B$, and delta unknowns\")\n",
    "\n",
    "ax = plt.subplot(312)\n",
    "\n",
    "plt.xlim(0, .035)\n",
    "plt.hist(p_B_samples, histtype='stepfilled', bins=25, alpha=0.85,\n",
    "        label=\"posterior of $p_B$\", color=\"#467821\", edgecolor = \"none\")\n",
    "plt.legend(loc=\"upper right\")\n",
    "\n",
    "ax = plt.subplot(313)\n",
    "# plt.ylim(0,300)\n",
    "plt.hist(delta_samples, histtype='stepfilled', bins=50, alpha=0.85,\n",
    "        label=\"posterior of $p_B$ - $p_A$\", color=\"#7A68A6\", edgecolor = \"none\")\n",
    "plt.legend(loc=\"upper right\")\n",
    "plt.vlines(0, 0, 120, color=\"black\", alpha = .5)\n",
    "\n",
    "plt.show()"
   ]
  },
  {
   "cell_type": "code",
   "execution_count": 81,
   "id": "d7c8c179-5a83-4895-8b12-8b174d5a6c99",
   "metadata": {},
   "outputs": [
    {
     "name": "stdout",
     "output_type": "stream",
     "text": [
      "Probability site A is BETTER than site B: 0.005\n",
      "Probability site A is WORSE than site B: 0.995\n"
     ]
    }
   ],
   "source": [
    "print(\"Probability site A is BETTER than site B: %.3f\" % (delta_samples < 0).mean())\n",
    "print(\"Probability site A is WORSE than site B: %.3f\" % (delta_samples > 0).mean())"
   ]
  },
  {
   "cell_type": "code",
   "execution_count": null,
   "id": "7644d205-efea-423f-9300-345f91e6a149",
   "metadata": {},
   "outputs": [],
   "source": []
  }
 ],
 "metadata": {
  "kernelspec": {
   "display_name": "Python 3 (ipykernel)",
   "language": "python",
   "name": "python3"
  },
  "language_info": {
   "codemirror_mode": {
    "name": "ipython",
    "version": 3
   },
   "file_extension": ".py",
   "mimetype": "text/x-python",
   "name": "python",
   "nbconvert_exporter": "python",
   "pygments_lexer": "ipython3",
   "version": "3.10.4"
  }
 },
 "nbformat": 4,
 "nbformat_minor": 5
}
