{
 "cells": [
  {
   "cell_type": "code",
   "execution_count": 2,
   "id": "1f175cd3-d478-4998-a80d-0e0de12ea35a",
   "metadata": {},
   "outputs": [
    {
     "data": {
      "text/plain": [
       "(array([25., 27., 29., 23., 21., 15., 29., 15., 17., 21., 28., 32., 21.,\n",
       "        30., 25., 20., 18., 25., 36., 23., 30., 25., 28., 18., 31., 23.,\n",
       "        19., 26., 23., 21., 22., 22., 21., 26., 19., 27., 21., 25., 18.,\n",
       "        26., 30., 19.]),\n",
       " array([ 0.        ,  0.97619048,  1.95238095,  2.92857143,  3.9047619 ,\n",
       "         4.88095238,  5.85714286,  6.83333333,  7.80952381,  8.78571429,\n",
       "         9.76190476, 10.73809524, 11.71428571, 12.69047619, 13.66666667,\n",
       "        14.64285714, 15.61904762, 16.5952381 , 17.57142857, 18.54761905,\n",
       "        19.52380952, 20.5       , 21.47619048, 22.45238095, 23.42857143,\n",
       "        24.4047619 , 25.38095238, 26.35714286, 27.33333333, 28.30952381,\n",
       "        29.28571429, 30.26190476, 31.23809524, 32.21428571, 33.19047619,\n",
       "        34.16666667, 35.14285714, 36.11904762, 37.0952381 , 38.07142857,\n",
       "        39.04761905, 40.02380952, 41.        ]),\n",
       " <BarContainer object of 42 artists>)"
      ]
     },
     "execution_count": 2,
     "metadata": {},
     "output_type": "execute_result"
    },
    {
     "data": {
      "image/png": "[encoded data removed]",
      "text/plain": [
       "<Figure size 432x288 with 1 Axes>"
      ]
     },
     "metadata": {
      "needs_background": "light"
     },
     "output_type": "display_data"
    }
   ],
   "source": [
    "import pymc as pm\n",
    "import numpy as np\n",
    "import matplotlib.pyplot as plt\n",
    "\n",
    "count_data = np.random.randint(42, size=1000)\n",
    "plt.hist(count_data,bins=count_data.max()+1)"
   ]
  },
  {
   "cell_type": "code",
   "execution_count": 3,
   "id": "e336bc6c-6d96-4009-b727-f413c2c1e32d",
   "metadata": {},
   "outputs": [
    {
     "data": {
      "text/latex": [
       "$$\n",
       "            \\begin{array}{rcl}\n",
       "            \\text{lambda_1} &\\sim & \\operatorname{Exp}(f())\\\\\\text{lambda_2} &\\sim & \\operatorname{Exp}(f())\\\\\\text{tau} &\\sim & \\operatorname{DiscreteUniform}(f(),~f())\n",
       "            \\end{array}\n",
       "            $$"
      ],
      "text/plain": [
       "lambda_1 ~ Exp(f())\n",
       "lambda_2 ~ Exp(f())\n",
       "     tau ~ DiscreteUniform(f(), f())"
      ]
     },
     "execution_count": 3,
     "metadata": {},
     "output_type": "execute_result"
    }
   ],
   "source": [
    "with pm.Model() as model:\n",
    "    alpha = 1.0/count_data.mean()  # Recall count_data is ther\n",
    "                                   # variable that holds our txt counts\n",
    "    lambda_1 = pm.Exponential(\"lambda_1\", alpha)\n",
    "    lambda_2 = pm.Exponential(\"lambda_2\", alpha)\n",
    "    \n",
    "    tau = pm.DiscreteUniform(\"tau\", lower=0, upper=100 - 1)\n",
    "\n",
    "model"
   ]
  },
  {
   "cell_type": "code",
   "execution_count": 4,
   "id": "6b290de9-b631-47b9-871a-dd5b1fcb746d",
   "metadata": {},
   "outputs": [],
   "source": [
    "with pm.Model() as null_model:\n",
    "    mu = pm.DiscreteUniform(\"mu\", lower=count_data.mean(), upper=count_data.max())"
   ]
  },
  {
   "cell_type": "code",
   "execution_count": 5,
   "id": "52512a03-d36d-49fe-bcf1-f3675384840c",
   "metadata": {},
   "outputs": [
    {
     "data": {
      "text/latex": [
       "$$\n",
       "            \\begin{array}{rcl}\n",
       "            \\text{mu} &\\sim & \\operatorname{DiscreteUniform}(f(),~f())\n",
       "            \\end{array}\n",
       "            $$"
      ],
      "text/plain": [
       "mu ~ DiscreteUniform(f(), f())"
      ]
     },
     "execution_count": 5,
     "metadata": {},
     "output_type": "execute_result"
    }
   ],
   "source": [
    "null_model"
   ]
  }
 ],
 "metadata": {
  "kernelspec": {
   "display_name": "Python 3 (ipykernel)",
   "language": "python",
   "name": "python3"
  },
  "language_info": {
   "codemirror_mode": {
    "name": "ipython",
    "version": 3
   },
   "file_extension": ".py",
   "mimetype": "text/x-python",
   "name": "python",
   "nbconvert_exporter": "python",
   "pygments_lexer": "ipython3",
   "version": "3.10.4"
  }
 },
 "nbformat": 4,
 "nbformat_minor": 5
}
